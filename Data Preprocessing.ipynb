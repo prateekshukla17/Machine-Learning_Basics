{
 "cells": [
  {
   "cell_type": "markdown",
   "id": "9c97f1ed-2e62-45c0-8be4-b29a9c5985ce",
   "metadata": {},
   "source": [
    "<h1>Data Preprocessing</h1>"
   ]
  },
  {
   "cell_type": "code",
   "execution_count": 4,
   "id": "e8657609-8323-48fd-bf09-fea0d583ed7f",
   "metadata": {},
   "outputs": [
    {
     "name": "stdout",
     "output_type": "stream",
     "text": [
      "   one  two\n",
      "a  1.0  1.0\n",
      "b  2.0  2.0\n",
      "c  NaN  3.0\n",
      "d  NaN  4.0\n",
      "e  5.0  NaN\n"
     ]
    }
   ],
   "source": [
    "import pandas as pd\n",
    "import numpy as np \n",
    "\n",
    "data = {'one':pd.Series([1,2,5],index = ['a','b','e']),\n",
    "        'two':pd.Series([1,2,3,4],index = ['a','b','c','d'])}\n",
    "table = pd.DataFrame(data)\n",
    "print(table)"
   ]
  },
  {
   "cell_type": "code",
   "execution_count": 13,
   "id": "370c99d6-9eb5-46ce-8957-455c52e3554c",
   "metadata": {},
   "outputs": [
    {
     "name": "stdout",
     "output_type": "stream",
     "text": [
      "        one  two\n",
      "0  1.000000  1.0\n",
      "1  2.000000  2.0\n",
      "2  2.666667  3.0\n",
      "3  2.666667  4.0\n",
      "4  5.000000  2.5\n"
     ]
    },
    {
     "name": "stderr",
     "output_type": "stream",
     "text": [
      "C:\\Users\\shukl\\AppData\\Local\\Programs\\Python\\Python312\\Lib\\site-packages\\sklearn\\base.py:493: UserWarning: X does not have valid feature names, but SimpleImputer was fitted with feature names\n",
      "  warnings.warn(\n"
     ]
    }
   ],
   "source": [
    "from sklearn.impute import SimpleImputer\n",
    "im=SimpleImputer(missing_values=np.nan, strategy = 'mean')\n",
    "im.fit(table) #just calulates the mean\n",
    "imputed_data=im.transform(table.values) #replaces the data into the table \n",
    "print(pd.DataFrame(imputed_data, columns = ['one','two']))"
   ]
  },
  {
   "cell_type": "markdown",
   "id": "8e95f119-362d-455f-9fc3-b62d2994a4e4",
   "metadata": {},
   "source": [
    "<h2>Handling the Caterogial Values</h2>"
   ]
  },
  {
   "cell_type": "code",
   "execution_count": 14,
   "id": "48668f1c-9bce-42f7-8a5b-fff71aa15784",
   "metadata": {},
   "outputs": [
    {
     "name": "stdout",
     "output_type": "stream",
     "text": [
      "   Customer_id       Loan_Type Income\n",
      "0            1       home_loan    30K\n",
      "1            2   Personal_Loan    25K\n",
      "2            3  Education_Loan    15K\n",
      "3            4       Home_Loan    40K\n",
      "4            5     Credit_Loan    35K\n"
     ]
    }
   ],
   "source": [
    "data1={'Customer_id':pd.Series([1,2,3,4,5]),\n",
    "       'Loan_Type':pd.Series(['home_loan','Personal_Loan','Education_Loan','Home_Loan','Credit_Loan']),\n",
    "       'Income':pd.Series(['30K','25K','15K','40K','35K'])}\n",
    "loan_info = pd.DataFrame(data1)\n",
    "print(loan_info)"
   ]
  },
  {
   "cell_type": "code",
   "execution_count": 19,
   "id": "fe79108f-f437-423a-8d90-1a04b3d7d95f",
   "metadata": {},
   "outputs": [
    {
     "data": {
      "text/html": [
       "<div>\n",
       "<style scoped>\n",
       "    .dataframe tbody tr th:only-of-type {\n",
       "        vertical-align: middle;\n",
       "    }\n",
       "\n",
       "    .dataframe tbody tr th {\n",
       "        vertical-align: top;\n",
       "    }\n",
       "\n",
       "    .dataframe thead th {\n",
       "        text-align: right;\n",
       "    }\n",
       "</style>\n",
       "<table border=\"1\" class=\"dataframe\">\n",
       "  <thead>\n",
       "    <tr style=\"text-align: right;\">\n",
       "      <th></th>\n",
       "      <th>Customer_id</th>\n",
       "      <th>abc*Credit_Loan</th>\n",
       "      <th>abc*Education_Loan</th>\n",
       "      <th>abc*Home_Loan</th>\n",
       "      <th>abc*Personal_Loan</th>\n",
       "      <th>abc*home_loan</th>\n",
       "      <th>abc*15K</th>\n",
       "      <th>abc*25K</th>\n",
       "      <th>abc*30K</th>\n",
       "      <th>abc*35K</th>\n",
       "      <th>abc*40K</th>\n",
       "    </tr>\n",
       "  </thead>\n",
       "  <tbody>\n",
       "    <tr>\n",
       "      <th>0</th>\n",
       "      <td>1</td>\n",
       "      <td>False</td>\n",
       "      <td>False</td>\n",
       "      <td>False</td>\n",
       "      <td>False</td>\n",
       "      <td>True</td>\n",
       "      <td>False</td>\n",
       "      <td>False</td>\n",
       "      <td>True</td>\n",
       "      <td>False</td>\n",
       "      <td>False</td>\n",
       "    </tr>\n",
       "    <tr>\n",
       "      <th>1</th>\n",
       "      <td>2</td>\n",
       "      <td>False</td>\n",
       "      <td>False</td>\n",
       "      <td>False</td>\n",
       "      <td>True</td>\n",
       "      <td>False</td>\n",
       "      <td>False</td>\n",
       "      <td>True</td>\n",
       "      <td>False</td>\n",
       "      <td>False</td>\n",
       "      <td>False</td>\n",
       "    </tr>\n",
       "    <tr>\n",
       "      <th>2</th>\n",
       "      <td>3</td>\n",
       "      <td>False</td>\n",
       "      <td>True</td>\n",
       "      <td>False</td>\n",
       "      <td>False</td>\n",
       "      <td>False</td>\n",
       "      <td>True</td>\n",
       "      <td>False</td>\n",
       "      <td>False</td>\n",
       "      <td>False</td>\n",
       "      <td>False</td>\n",
       "    </tr>\n",
       "    <tr>\n",
       "      <th>3</th>\n",
       "      <td>4</td>\n",
       "      <td>False</td>\n",
       "      <td>False</td>\n",
       "      <td>True</td>\n",
       "      <td>False</td>\n",
       "      <td>False</td>\n",
       "      <td>False</td>\n",
       "      <td>False</td>\n",
       "      <td>False</td>\n",
       "      <td>False</td>\n",
       "      <td>True</td>\n",
       "    </tr>\n",
       "    <tr>\n",
       "      <th>4</th>\n",
       "      <td>5</td>\n",
       "      <td>True</td>\n",
       "      <td>False</td>\n",
       "      <td>False</td>\n",
       "      <td>False</td>\n",
       "      <td>False</td>\n",
       "      <td>False</td>\n",
       "      <td>False</td>\n",
       "      <td>False</td>\n",
       "      <td>True</td>\n",
       "      <td>False</td>\n",
       "    </tr>\n",
       "  </tbody>\n",
       "</table>\n",
       "</div>"
      ],
      "text/plain": [
       "   Customer_id  abc*Credit_Loan  abc*Education_Loan  abc*Home_Loan  \\\n",
       "0            1            False               False          False   \n",
       "1            2            False               False          False   \n",
       "2            3            False                True          False   \n",
       "3            4            False               False           True   \n",
       "4            5             True               False          False   \n",
       "\n",
       "   abc*Personal_Loan  abc*home_loan  abc*15K  abc*25K  abc*30K  abc*35K  \\\n",
       "0              False           True    False    False     True    False   \n",
       "1               True          False    False     True    False    False   \n",
       "2              False          False     True    False    False    False   \n",
       "3              False          False    False    False    False    False   \n",
       "4              False          False    False    False    False     True   \n",
       "\n",
       "   abc*40K  \n",
       "0    False  \n",
       "1    False  \n",
       "2    False  \n",
       "3     True  \n",
       "4    False  "
      ]
     },
     "execution_count": 19,
     "metadata": {},
     "output_type": "execute_result"
    }
   ],
   "source": [
    "#pd.get_dummies(loan_info)\n",
    "pd.get_dummies(loan_info, prefix='abc',prefix_sep=\"*\")"
   ]
  },
  {
   "cell_type": "markdown",
   "id": "d170c3c3-6a50-4e40-84a3-edc6979817d2",
   "metadata": {},
   "source": [
    "<H2>Lable Encoder</H2>"
   ]
  },
  {
   "cell_type": "code",
   "execution_count": 22,
   "id": "427e4355-3fd9-410e-8aeb-e5ef8aa235db",
   "metadata": {},
   "outputs": [
    {
     "name": "stdout",
     "output_type": "stream",
     "text": [
      "   Customer_id  Loan_Type  Income\n",
      "0            0          4       2\n",
      "1            1          3       1\n",
      "2            2          1       0\n",
      "3            3          2       4\n",
      "4            4          0       3\n"
     ]
    }
   ],
   "source": [
    "from sklearn.preprocessing import LabelEncoder\n",
    "labelencoder=LabelEncoder()\n",
    "loan_info_upd=loan_info.apply(labelencoder.fit_transform)\n",
    "print(loan_info_upd)"
   ]
  },
  {
   "cell_type": "markdown",
   "id": "44ae9854-82e5-47b0-958d-68fee9a422be",
   "metadata": {},
   "source": [
    "<h2>OneHotEncoder</h2>\n"
   ]
  },
  {
   "cell_type": "code",
   "execution_count": 23,
   "id": "fee6bbb2-7bf5-4fb4-97a1-9e5412937b59",
   "metadata": {},
   "outputs": [
    {
     "name": "stdout",
     "output_type": "stream",
     "text": [
      "[[1. 0. 0. 0. 0. 0. 0. 0. 0. 1. 0. 0. 1. 0. 0.]\n",
      " [0. 1. 0. 0. 0. 0. 0. 0. 1. 0. 0. 1. 0. 0. 0.]\n",
      " [0. 0. 1. 0. 0. 0. 1. 0. 0. 0. 1. 0. 0. 0. 0.]\n",
      " [0. 0. 0. 1. 0. 0. 0. 1. 0. 0. 0. 0. 0. 0. 1.]\n",
      " [0. 0. 0. 0. 1. 1. 0. 0. 0. 0. 0. 0. 0. 1. 0.]]\n"
     ]
    }
   ],
   "source": [
    "from sklearn.preprocessing import OneHotEncoder\n",
    "obj=OneHotEncoder() #the true and false in the dummy is convered into 0s and 1s\n",
    "x=obj.fit_transform(loan_info).toarray()\n",
    "print(x)"
   ]
  },
  {
   "cell_type": "markdown",
   "id": "ad10ba61-e22a-4150-91af-646f77df5680",
   "metadata": {},
   "source": [
    "<h1>Trainning and Spliting Data</h1>"
   ]
  },
  {
   "cell_type": "code",
   "execution_count": 24,
   "id": "0f549c76-18f4-4bd9-b44b-0261d926cdda",
   "metadata": {},
   "outputs": [],
   "source": [
    "from sklearn.model_selection import train_test_split \n",
    "from sklearn.datasets import load_iris"
   ]
  },
  {
   "cell_type": "code",
   "execution_count": 25,
   "id": "7c6b62b2-7c2d-429e-8594-2a022ca03093",
   "metadata": {},
   "outputs": [],
   "source": [
    "iris = load_iris()"
   ]
  },
  {
   "cell_type": "code",
   "execution_count": 26,
   "id": "03869f62-bbd8-4fc1-8ecd-5c74d9866a83",
   "metadata": {},
   "outputs": [
    {
     "data": {
      "text/plain": [
       "sklearn.utils._bunch.Bunch"
      ]
     },
     "execution_count": 26,
     "metadata": {},
     "output_type": "execute_result"
    }
   ],
   "source": [
    "type(iris)"
   ]
  },
  {
   "cell_type": "code",
   "execution_count": null,
   "id": "65df8395-d01b-4131-ba36-5d61a69aa49f",
   "metadata": {},
   "outputs": [],
   "source": [
    "print(iris.DESCR)"
   ]
  },
  {
   "cell_type": "code",
   "execution_count": 36,
   "id": "fce12899-fc69-4381-8616-28e0094f1247",
   "metadata": {},
   "outputs": [
    {
     "data": {
      "text/plain": [
       "(150,)"
      ]
     },
     "execution_count": 36,
     "metadata": {},
     "output_type": "execute_result"
    }
   ],
   "source": [
    "X=iris.data\n",
    "Y=iris.target\n",
    "\n",
    "Y.shape"
   ]
  },
  {
   "cell_type": "code",
   "execution_count": 37,
   "id": "e4ad13fb-cb78-4d7b-8321-991470f8461a",
   "metadata": {},
   "outputs": [],
   "source": [
    "X_train, X_test,y_train,y_test = train_test_split(X,Y,test_size=0.2) # size of testing data is 20%\n",
    "#the above function will return the input of testing data, training data and output of testing and tranning data\n",
    "#randomly assigns the tranning and testing data"
   ]
  },
  {
   "cell_type": "code",
   "execution_count": 38,
   "id": "fc4b4fd7-bfa1-4c9e-bf4b-51133d246793",
   "metadata": {},
   "outputs": [
    {
     "data": {
      "text/plain": [
       "(120, 4)"
      ]
     },
     "execution_count": 38,
     "metadata": {},
     "output_type": "execute_result"
    }
   ],
   "source": [
    "X_train.shape"
   ]
  },
  {
   "cell_type": "code",
   "execution_count": 39,
   "id": "3dcb76db-55f6-4913-92fe-561e1f1c1419",
   "metadata": {},
   "outputs": [
    {
     "data": {
      "text/plain": [
       "(30, 4)"
      ]
     },
     "execution_count": 39,
     "metadata": {},
     "output_type": "execute_result"
    }
   ],
   "source": [
    "X_test.shape"
   ]
  },
  {
   "cell_type": "code",
   "execution_count": null,
   "id": "6abf9d34-7d44-443b-bd0c-531eb30e7c4a",
   "metadata": {},
   "outputs": [],
   "source": []
  }
 ],
 "metadata": {
  "kernelspec": {
   "display_name": "Python 3 (ipykernel)",
   "language": "python",
   "name": "python3"
  },
  "language_info": {
   "codemirror_mode": {
    "name": "ipython",
    "version": 3
   },
   "file_extension": ".py",
   "mimetype": "text/x-python",
   "name": "python",
   "nbconvert_exporter": "python",
   "pygments_lexer": "ipython3",
   "version": "3.12.4"
  }
 },
 "nbformat": 4,
 "nbformat_minor": 5
}
