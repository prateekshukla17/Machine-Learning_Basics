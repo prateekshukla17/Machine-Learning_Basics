{
 "cells": [
  {
   "cell_type": "code",
   "execution_count": 2,
   "id": "fddc335f-80ba-4398-813c-851d624938c9",
   "metadata": {},
   "outputs": [
    {
     "name": "stdout",
     "output_type": "stream",
     "text": [
      "Before:\n",
      "    one  two\n",
      "a  1.0  1.0\n",
      "b  2.0  2.0\n",
      "c  NaN  3.0\n",
      "d  NaN  4.0\n",
      "e  5.0  NaN\n",
      "<class 'numpy.ndarray'>\n",
      "        one  two\n",
      "0  1.000000  1.0\n",
      "1  2.000000  2.0\n",
      "2  2.666667  3.0\n",
      "3  2.666667  4.0\n",
      "4  5.000000  2.5\n"
     ]
    },
    {
     "name": "stderr",
     "output_type": "stream",
     "text": [
      "C:\\Users\\shukl\\AppData\\Local\\Programs\\Python\\Python312\\Lib\\site-packages\\sklearn\\base.py:493: UserWarning: X does not have valid feature names, but SimpleImputer was fitted with feature names\n",
      "  warnings.warn(\n"
     ]
    }
   ],
   "source": [
    "import pandas as pd\n",
    "import numpy as np\n",
    "\n",
    "data={'one':pd.Series([1,2,5],index=['a','b','e']),'two':pd.Series([1,2,3,4],index=['a','b','c','d'])}\n",
    "\n",
    "table=pd.DataFrame(data)\n",
    "print(\"Before:\\n\",table)\n",
    "\n",
    "from sklearn.impute import SimpleImputer\n",
    "imputer=SimpleImputer(missing_values=np.nan,strategy='mean')\n",
    "imputer.fit(table) #calculates the mean( the value to be put in place of missing valuee)\n",
    "imputed_data=imputer.transform(table.values)\n",
    "print(type(imputed_data))\n",
    "print(pd.DataFrame(imputed_data,columns=['one','two']))"
   ]
  },
  {
   "cell_type": "markdown",
   "id": "a3b71391-03df-438f-b576-a7f1c63908e7",
   "metadata": {},
   "source": [
    "<h2>Handling Categorical Values</h2>"
   ]
  },
  {
   "cell_type": "code",
   "execution_count": null,
   "id": "285603e4-5662-4749-a567-011d2aafd1ff",
   "metadata": {},
   "outputs": [],
   "source": [
    "data={'Customer_id': pd.Series([1,2,3,4,5]),\n",
    "      'Loan Type':   pd.Series(['Home Loan','Personal Loal',\n",
    "                                'Educational Loan',\n",
    "                                'Home Loan',\n",
    "                                'Credict Loal']),\n",
    "      'Income': pd.Series(['30k','45k','50k','12k','34k'])}\n",
    "\n",
    "loan_info=pd.DataFrame(data);\n",
    "loan_info=pd.get_dummies(loan_info, prefix_sep='_',drop_first=True)\n",
    "#print(loan_info)"
   ]
  },
  {
   "cell_type": "markdown",
   "id": "2075d671-993c-4955-a341-63841932bc4f",
   "metadata": {},
   "source": [
    "<h3>Using Label Encoder</h3>\n",
    "\n",
    "<p>Can be used on data which is not ordinal data and not labled data</p>"
   ]
  },
  {
   "cell_type": "code",
   "execution_count": null,
   "id": "b0b87bea-ca1a-4a90-afa9-327927c9d28a",
   "metadata": {},
   "outputs": [
    {
     "name": "stdout",
     "output_type": "stream",
     "text": [
      "   Customer_id  Loan Type_Educational Loan  Loan Type_Home Loan  \\\n",
      "0            0                           0                    1   \n",
      "1            1                           0                    0   \n",
      "2            2                           1                    0   \n",
      "3            3                           0                    1   \n",
      "4            4                           0                    0   \n",
      "\n",
      "   Loan Type_Personal Loal  Income_30k  Income_34k  Income_45k  Income_50k  \n",
      "0                        0           1           0           0           0  \n",
      "1                        1           0           0           1           0  \n",
      "2                        0           0           0           0           1  \n",
      "3                        0           0           0           0           0  \n",
      "4                        0           0           1           0           0  \n"
     ]
    }
   ],
   "source": [
    "from sklearn.preprocessing import LabelEncoder\n",
    "labelencoder=LabelEncoder()\n",
    "loan_info_upd=loan_info.apply(labelencoder.fit_transform)\n",
    "print(loan_info_upd)"
   ]
  },
  {
   "cell_type": "code",
   "execution_count": null,
   "id": "857e39b9-b766-4752-905f-c076d41ee0c8",
   "metadata": {},
   "outputs": [],
   "source": []
  }
 ],
 "metadata": {
  "kernelspec": {
   "display_name": "Python 3 (ipykernel)",
   "language": "python",
   "name": "python3"
  },
  "language_info": {
   "codemirror_mode": {
    "name": "ipython",
    "version": 3
   },
   "file_extension": ".py",
   "mimetype": "text/x-python",
   "name": "python",
   "nbconvert_exporter": "python",
   "pygments_lexer": "ipython3",
   "version": "3.12.4"
  }
 },
 "nbformat": 4,
 "nbformat_minor": 5
}
